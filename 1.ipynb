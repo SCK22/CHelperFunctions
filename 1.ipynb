{
 "cells": [
  {
   "cell_type": "code",
   "execution_count": 1,
   "metadata": {},
   "outputs": [],
   "source": [
    "import HelperFunctionsML"
   ]
  },
  {
   "cell_type": "code",
   "execution_count": 2,
   "metadata": {},
   "outputs": [
    {
     "data": {
      "text/plain": [
       "<module 'HelperFunctionsML' from 'F:\\\\Programs Prac\\\\Python progs\\\\HelperFunctionsML\\\\HelperFunctionsML.py'>"
      ]
     },
     "execution_count": 2,
     "metadata": {},
     "output_type": "execute_result"
    }
   ],
   "source": [
    "import imp\n",
    "imp.reload(HelperFunctionsML)"
   ]
  },
  {
   "cell_type": "code",
   "execution_count": 3,
   "metadata": {},
   "outputs": [],
   "source": [
    "method_list = [func for func in dir(HelperFunctionsML) if callable(getattr(HelperFunctionsML, func))]"
   ]
  },
  {
   "cell_type": "code",
   "execution_count": 4,
   "metadata": {},
   "outputs": [
    {
     "data": {
      "text/plain": [
       "['AlmostUniqueColumn',\n",
       " 'ApplyModelValidateReturnPrediction',\n",
       " 'CategoricalAndNumericalAttributesExtractor',\n",
       " 'CreateDummyDataFrame',\n",
       " 'ImputeNumericCol',\n",
       " 'ListOfNaCols',\n",
       " 'ReplaceAttributeValues',\n",
       " 'import_models',\n",
       " 'initial_stats']"
      ]
     },
     "execution_count": 4,
     "metadata": {},
     "output_type": "execute_result"
    }
   ],
   "source": [
    "method_list"
   ]
  },
  {
   "cell_type": "code",
   "execution_count": 5,
   "metadata": {},
   "outputs": [],
   "source": [
    "# dir(HelperFunctionsML.AlmostUniqueColumn)"
   ]
  },
  {
   "cell_type": "code",
   "execution_count": 7,
   "metadata": {},
   "outputs": [],
   "source": [
    "# from inspect import *\n",
    "\n",
    "# class MySelfExplaningClass:\n",
    "#     \"\"\"This is my class document string\"\"\"\n",
    "\n",
    "#     def __init__(self,a):\n",
    "#         self.a = a\n",
    "#         print (getdoc(self))\n",
    "\n",
    "#     def my_selfexplaining_method(self):\n",
    "#         \"\"\"This is my method document string\"\"\"\n",
    "#         print (getdoc(getattr(self, getframeinfo(currentframe()).function)))\n",
    "\n",
    "\n",
    "# explain = MySelfExplaningClass(HelperFunctionsML)\n",
    "\n",
    "# # Output: This is my class document string\n",
    "\n",
    "# explain.my_selfexplaining_method()\n",
    "\n",
    "# # Output: This is my method document string\n",
    "\n",
    "# def my_selfexplaining_function():\n",
    "#     \"\"\"This is my function document string\"\"\"\n",
    "#     print (getdoc(globals()[getframeinfo(currentframe()).function]))\n",
    "\n",
    "# my_selfexplaining_function()\n",
    "\n",
    "# # Output: This is my function document string"
   ]
  },
  {
   "cell_type": "code",
   "execution_count": 10,
   "metadata": {},
   "outputs": [],
   "source": [
    "\n",
    "from HelperFunctionsMLClass import HelperFunctionsML"
   ]
  },
  {
   "cell_type": "code",
   "execution_count": 11,
   "metadata": {},
   "outputs": [
    {
     "data": {
      "text/plain": [
       "['__class__',\n",
       " '__delattr__',\n",
       " '__dict__',\n",
       " '__dir__',\n",
       " '__doc__',\n",
       " '__eq__',\n",
       " '__format__',\n",
       " '__ge__',\n",
       " '__getattribute__',\n",
       " '__gt__',\n",
       " '__hash__',\n",
       " '__init__',\n",
       " '__init_subclass__',\n",
       " '__le__',\n",
       " '__lt__',\n",
       " '__module__',\n",
       " '__ne__',\n",
       " '__new__',\n",
       " '__reduce__',\n",
       " '__reduce_ex__',\n",
       " '__repr__',\n",
       " '__setattr__',\n",
       " '__sizeof__',\n",
       " '__str__',\n",
       " '__subclasshook__',\n",
       " '__weakref__',\n",
       " 'applyModelValidateReturnPrediction',\n",
       " 'catNumExtract',\n",
       " 'createDummyDataFrame',\n",
       " 'importModels',\n",
       " 'imputeNumericCol',\n",
       " 'listOfNaCols',\n",
       " 'replaceAttributeValues']"
      ]
     },
     "execution_count": 11,
     "metadata": {},
     "output_type": "execute_result"
    }
   ],
   "source": [
    "dir(HelperFunctionsML)"
   ]
  },
  {
   "cell_type": "code",
   "execution_count": null,
   "metadata": {},
   "outputs": [],
   "source": []
  }
 ],
 "metadata": {
  "kernelspec": {
   "display_name": "Python 3",
   "language": "python",
   "name": "python3"
  },
  "language_info": {
   "codemirror_mode": {
    "name": "ipython",
    "version": 3
   },
   "file_extension": ".py",
   "mimetype": "text/x-python",
   "name": "python",
   "nbconvert_exporter": "python",
   "pygments_lexer": "ipython3",
   "version": "3.6.4"
  }
 },
 "nbformat": 4,
 "nbformat_minor": 2
}
